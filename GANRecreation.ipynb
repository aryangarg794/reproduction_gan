{
 "cells": [
  {
   "cell_type": "markdown",
   "metadata": {
    "collapsed": false
   },
   "source": [
    "## Recreating GAN networks from scratch based on the paper by I. Goodfellow"
   ]
  },
  {
   "cell_type": "code",
   "execution_count": null,
   "metadata": {
    "ExecuteTime": {
     "end_time": "2023-10-16T20:36:25.034662600Z",
     "start_time": "2023-10-16T20:36:15.021421300Z"
    }
   },
   "outputs": [],
   "source": [
    "import torch\n",
    "import torchvision\n",
    "import numpy as np\n",
    "import torch.nn as nn\n",
    "import torch.nn.functional \n",
    "from torchvision import datasets, transforms\n",
    "import matplotlib.pyplot as plt\n",
    "from yaml import load, Loader\n",
    "import itertools\n",
    "\n",
    "import matplotlib.pyplot as plt\n",
    "import itertools\n",
    "import math\n",
    "from IPython import display"
   ]
  },
  {
   "cell_type": "code",
   "execution_count": 141,
   "metadata": {
    "ExecuteTime": {
     "end_time": "2023-10-16T20:37:22.871857800Z",
     "start_time": "2023-10-16T20:37:22.864858300Z"
    },
    "collapsed": false
   },
   "outputs": [
    {
     "name": "stdout",
     "output_type": "stream",
     "text": [
      "Is CUDA supported by this system? True\n"
     ]
    }
   ],
   "source": [
    "print(f\"Is CUDA supported by this system? {torch.cuda.is_available()}\")"
   ]
  },
  {
   "cell_type": "markdown",
   "metadata": {},
   "source": [
    "Loading the data"
   ]
  },
  {
   "cell_type": "code",
   "execution_count": 155,
   "metadata": {},
   "outputs": [],
   "source": [
    "# loading hyperparameters\n",
    "file = open('config.yml', 'r')\n",
    "config = load(file, Loader)\n",
    "\n",
    "k = config['k']\n",
    "lr = config['lr']\n",
    "gen_step = config['gen_steps']\n",
    "epochs = config['epochs']\n",
    "image_size = config['input_size']\n",
    "output_size = config['output_size']\n",
    "hidden_layers_d = config['discriminator_layers']\n",
    "hidden_layers_g = config['generator_layers']"
   ]
  },
  {
   "cell_type": "code",
   "execution_count": 143,
   "metadata": {},
   "outputs": [],
   "source": [
    "transform = transforms.Compose([\n",
    "    transforms.ToTensor(),\n",
    "    transforms.Normalize(mean=[0.5], std=[0.5])])\n",
    "\n",
    "train_dataset = torchvision.datasets.MNIST(\n",
    "    root=\"~/torch_datasets\", train=True, transform=transform, download=True)\n",
    "\n",
    "test_dataset = torchvision.datasets.MNIST(\n",
    "    root=\"~/torch_datasets\", train=False, transform=transform, download=True)\n",
    "\n",
    "train_loader = torch.utils.data.DataLoader(\n",
    "    train_dataset, batch_size=batch_size, shuffle=True, num_workers=4, pin_memory=True)\n",
    "\n",
    "test_loader = torch.utils.data.DataLoader(\n",
    "    test_dataset, batch_size=batch_size, shuffle=False, num_workers=4)"
   ]
  },
  {
   "cell_type": "markdown",
   "metadata": {
    "collapsed": false
   },
   "source": [
    "Creating a class to cover G"
   ]
  },
  {
   "cell_type": "code",
   "execution_count": 144,
   "metadata": {
    "collapsed": false
   },
   "outputs": [],
   "source": [
    "# This class needs to be able to train on\n",
    "class Generator(nn.Module):\n",
    "    def __init__(self, image_size, hidden_layers, output_size):\n",
    "        super(Generator, self).__init__()\n",
    "\n",
    "        self.layers = nn.ModuleList()\n",
    "        self.layers.append(nn.Linear(output_size, hidden_layers[0]))\n",
    "\n",
    "        for i, hidden_layer in enumerate(hidden_layers[:-1]):\n",
    "            self.layers.append(nn.Linear(hidden_layer, hidden_layers[i+1]))\n",
    "\n",
    "        self.relu = nn.ReLU()\n",
    "        self.tanh = nn.Tanh()\n",
    "        self.output = nn.Linear(hidden_layers[-1], image_size)\n",
    "\n",
    "    def forward(self, x):\n",
    "        for layer in self.layers:\n",
    "            x = self.relu(layer(x))\n",
    "        return self.tanh(self.output(x))\n",
    "        \n"
   ]
  },
  {
   "cell_type": "markdown",
   "metadata": {
    "collapsed": false
   },
   "source": [
    "Creating a class to cover D"
   ]
  },
  {
   "cell_type": "code",
   "execution_count": 145,
   "metadata": {
    "collapsed": false
   },
   "outputs": [],
   "source": [
    "class Discriminator(nn.Module):\n",
    "    def __init__(self, image_size, hidden_layers, output_size, dropout_prob=0.1):\n",
    "        super(Discriminator, self).__init__()\n",
    "\n",
    "        self.layers = nn.ModuleList()\n",
    "        self.layers.append(nn.Linear(image_size, hidden_layers[0]))\n",
    "        \n",
    "        for i, hidden_layer in enumerate(hidden_layers[:-1]):\n",
    "            self.layers.append(nn.Linear(hidden_layer, hidden_layers[i+1]))\n",
    "\n",
    "        self.dropout = nn.Dropout(p=dropout_prob)\n",
    "        self.relu = nn.ReLU()\n",
    "        self.sigmoid = nn.Sigmoid()\n",
    "        self.output = nn.Linear(hidden_layers[-1], output_size)\n",
    "\n",
    "\n",
    "    def forward(self, x):\n",
    "        for layer in self.layers:\n",
    "            x = self.dropout(self.relu(layer(x)))\n",
    "        return self.sigmoid(self.output(x))"
   ]
  },
  {
   "cell_type": "code",
   "execution_count": 146,
   "metadata": {},
   "outputs": [],
   "source": [
    "def generate_noise(n_samples):\n",
    "    return torch.randn(n_samples, output_size).to(device)"
   ]
  },
  {
   "cell_type": "code",
   "execution_count": 148,
   "metadata": {},
   "outputs": [],
   "source": [
    "discriminator = Discriminator(image_size, hidden_layers_d, 1).to(device)\n",
    "generator = Generator(image_size, hidden_layers_g, output_size).to(device)"
   ]
  },
  {
   "cell_type": "code",
   "execution_count": 149,
   "metadata": {},
   "outputs": [],
   "source": [
    "loss = nn.BCELoss()\n",
    "optimizer_d = torch.optim.SGD(discriminator.parameters(), lr=lr)\n",
    "optimizer_g = torch.optim.SGD(generator.parameters(), lr=lr)"
   ]
  },
  {
   "cell_type": "code",
   "execution_count": 156,
   "metadata": {},
   "outputs": [
    {
     "data": {
      "image/png": "[encoded data removed]",
      "text/plain": [
       "<Figure size 600x600 with 16 Axes>"
      ]
     },
     "metadata": {},
     "output_type": "display_data"
    }
   ],
   "source": [
    "size_figure_grid = int(np.sqrt(16))\n",
    "fig, ax = plt.subplots(size_figure_grid, size_figure_grid, figsize=(6, 6))\n",
    "for i, j in itertools.product(range(size_figure_grid), range(size_figure_grid)):\n",
    "    ax[i, j].get_xaxis().set_visible(False)\n",
    "    ax[i, j].get_yaxis().set_visible(False)\n",
    "\n",
    "epoch_losses_d, epoch_losses_g = [], []\n",
    "\n",
    "noise = generate_noise(16)\n",
    "\n",
    "for epoch in range(epochs):\n",
    "    if epoch % 10 == 0:\n",
    "        print(f'Epoch: {epoch}')\n",
    "\n",
    "    optimizer_d.zero_grad()\n",
    "    optimizer_g.zero_grad()\n",
    "\n",
    "    losses_d, losses_g = [], []\n",
    "    for i, (images, _) in enumerate(train_loader):\n",
    "        images = images.view(batch_size, -1).to(device)\n",
    "        real_labels = torch.ones(batch_size, 1).to(device)\n",
    "        fake_labels = torch.zeros(batch_size, 1).to(device)\n",
    "\n",
    "        outputs = discriminator(images)\n",
    "        d_loss_real = loss(outputs, real_labels)\n",
    "\n",
    "        z = torch.randn(batch_size, output_size).to(device)\n",
    "        fake_images = generator(z)\n",
    "        ouputs = discriminator(fake_images)\n",
    "        d_loss_fake = loss(ouputs, fake_labels)\n",
    "\n",
    "        d_loss = d_loss_fake + d_loss_real\n",
    "        optimizer_d.zero_grad()\n",
    "        optimizer_g.zero_grad()\n",
    "        d_loss.backward()\n",
    "        optimizer_d.step()\n",
    "        losses_d.append(d_loss.item())\n",
    "\n",
    "        z = torch.randn(batch_size, output_size).to(device)\n",
    "        fake_images = generator(z)\n",
    "        outputs = discriminator(fake_images)\n",
    "\n",
    "        g_loss = loss(outputs, real_labels)\n",
    "\n",
    "        optimizer_d.zero_grad()\n",
    "        optimizer_g.zero_grad()\n",
    "\n",
    "        g_loss.backward()\n",
    "        optimizer_g.step()\n",
    "        losses_g.append(g_loss.item())\n",
    "\n",
    "        if (i + 1) % 100 == 0:\n",
    "\n",
    "            test_images = generator(noise)\n",
    "            for k in range(16):\n",
    "                i = k // 4\n",
    "                j = k % 4\n",
    "                ax[i, j].cla()\n",
    "                ax[i, j].imshow(test_images[k, :].data.cpu().numpy().reshape(28, 28), cmap='Greys')\n",
    "            display.clear_output(wait=True)\n",
    "\n",
    "    epoch_losses_d.append(np.mean(losses_d))\n",
    "    epoch_losses_g.append(np.mean(losses_g))\n",
    "    \n",
    "\n"
   ]
  }
 ],
 "metadata": {
  "kernelspec": {
   "display_name": "Python 3 (ipykernel)",
   "language": "python",
   "name": "python3"
  },
  "language_info": {
   "codemirror_mode": {
    "name": "ipython",
    "version": 3
   },
   "file_extension": ".py",
   "mimetype": "text/x-python",
   "name": "python",
   "nbconvert_exporter": "python",
   "pygments_lexer": "ipython3",
   "version": "3.11.5"
  }
 },
 "nbformat": 4,
 "nbformat_minor": 2
}
